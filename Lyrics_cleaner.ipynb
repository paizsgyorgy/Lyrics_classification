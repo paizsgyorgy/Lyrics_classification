{
 "cells": [
  {
   "cell_type": "code",
   "execution_count": 2,
   "metadata": {},
   "outputs": [],
   "source": [
    "import pandas as pd\n",
    "import spacy\n",
    "import re\n",
    "import numpy as np"
   ]
  },
  {
   "cell_type": "code",
   "execution_count": 8,
   "metadata": {},
   "outputs": [],
   "source": [
    "## Load spacy's NLP model\n",
    "nlp = spacy.load('en_core_web_md')"
   ]
  },
  {
   "cell_type": "code",
   "execution_count": 27,
   "metadata": {},
   "outputs": [],
   "source": [
    "## Load data\n",
    "queen_df = pd.read_csv('Data/Queen_lyrics.csv', index_col=0)\n",
    "rlst_df = pd.read_csv('Data/RollingStones_lyrics.csv', index_col=0)\n",
    "miley_df = pd.read_csv('Data/MileyCyrus_lyrics.csv', index_col=0)\n",
    "rhcp_df = pd.read_csv('Data/RedHotChiliPeppers_lyrics.csv', index_col=0)"
   ]
  },
  {
   "cell_type": "code",
   "execution_count": 48,
   "metadata": {},
   "outputs": [],
   "source": [
    "## Balance datasets if needed and combine into one dataframe including artist names\n",
    "corpus = pd.concat([queen_df[:100], rlst_df[:100], miley_df[:100], rhcp_df[:100]], axis=0)"
   ]
  },
  {
   "cell_type": "code",
   "execution_count": 51,
   "metadata": {},
   "outputs": [],
   "source": [
    "corpus['Artist'] = ['Queen'] * 100 + ['Rolling Stones'] * 100 + ['Miley Cyrus'] * 100 + ['Red Hot Chili Peppers'] * 100"
   ]
  },
  {
   "cell_type": "code",
   "execution_count": 53,
   "metadata": {},
   "outputs": [],
   "source": [
    "def lyrics_cleaner(df):\n",
    "    \"\"\"\n",
    "    Takes a dataframe and uses text in Lyrics columns to clean data and return a sanitised corpus. \n",
    "    Function requires a csv file where the lyrics are in the Lyrics column\n",
    "    \"\"\"\n",
    "        \n",
    "    ## Firstly, we need to drop all rows with potential NA values\n",
    "    df.dropna(inplace=True)\n",
    "    \n",
    "    ## Remove the \\r\\n strings, strip the words and make it lowercase\n",
    "    lyrics_clean = [string.replace('\\r\\n',' ').replace('\\n',' ').replace('\\'', '').strip().lower() for string in df['Lyrics']]\n",
    "\n",
    "    ## Remove some other special characters and anything within square brackets, e.g., [chorus]\n",
    "    lyrics_clean = [re.sub(r'\\[[^]]*\\]','',i) for i in lyrics_clean]\n",
    "    lyrics_clean = [re.sub(r'\\.','',i) for i in lyrics_clean]\n",
    "    lyrics_clean = [re.sub(r'[ ](?=[ ])|[^-_,A-Za-z0-9 ]+','',i) for i in lyrics_clean]\n",
    "    lyrics_clean = [re.sub(r',','',i) for i in lyrics_clean]\n",
    "    \n",
    "    ## Tokenize lyrics for spacy string cleaning (lemmatisation, etc.)\n",
    "    tokenized_lyrics = []\n",
    "\n",
    "    for song in lyrics_clean:\n",
    "        tokens = nlp(song)\n",
    "        tokenized_lyrics.append(tokens)\n",
    "    \n",
    "    ## Clean the lyrics with spacy methods\n",
    "    clean_corpus = []\n",
    "    \n",
    "    for document in tokenized_lyrics:\n",
    "        \n",
    "        new_song = []\n",
    "        for word in document:\n",
    "            if not word.is_stop and not word.is_punct and not word.pos_ == 'NUM':\n",
    "                lemma = word.lemma_\n",
    "                new_song.append(lemma)\n",
    "        \n",
    "        clean_song = ' '.join(new_song)\n",
    "        clean_corpus.append(clean_song)\n",
    "    \n",
    "    return clean_corpus"
   ]
  },
  {
   "cell_type": "markdown",
   "metadata": {},
   "source": [
    "### Combine all cleaned lyrics into one corpus (to be X) and create y variable "
   ]
  },
  {
   "cell_type": "code",
   "execution_count": 62,
   "metadata": {},
   "outputs": [],
   "source": [
    "X = lyrics_cleaner(corpus)"
   ]
  },
  {
   "cell_type": "code",
   "execution_count": 57,
   "metadata": {},
   "outputs": [],
   "source": [
    "y = corpus['Artist']"
   ]
  },
  {
   "cell_type": "code",
   "execution_count": 63,
   "metadata": {},
   "outputs": [],
   "source": [
    "corpus_df = pd.DataFrame({'Label': y, 'Corpus': X})"
   ]
  },
  {
   "cell_type": "code",
   "execution_count": 64,
   "metadata": {},
   "outputs": [],
   "source": [
    "## Export to csv so that a separate machine learning modeling pipeline can work directly with that\n",
    "corpus_df.to_csv('Output/corpus.csv')"
   ]
  },
  {
   "cell_type": "code",
   "execution_count": null,
   "metadata": {},
   "outputs": [],
   "source": []
  }
 ],
 "metadata": {
  "kernelspec": {
   "display_name": "Python 3",
   "language": "python",
   "name": "python3"
  },
  "language_info": {
   "codemirror_mode": {
    "name": "ipython",
    "version": 3
   },
   "file_extension": ".py",
   "mimetype": "text/x-python",
   "name": "python",
   "nbconvert_exporter": "python",
   "pygments_lexer": "ipython3",
   "version": "3.7.3"
  }
 },
 "nbformat": 4,
 "nbformat_minor": 4
}
