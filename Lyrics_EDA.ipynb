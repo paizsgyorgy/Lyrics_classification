{
 "cells": [
  {
   "cell_type": "code",
   "execution_count": 128,
   "metadata": {},
   "outputs": [],
   "source": [
    "import pandas as pd\n",
    "import spacy\n",
    "import re\n",
    "import numpy as np\n",
    "import matplotlib.pyplot as plt"
   ]
  },
  {
   "cell_type": "code",
   "execution_count": 150,
   "metadata": {},
   "outputs": [],
   "source": [
    "## Read in previously scraped lyrics (code for scraping available in different notebook)\n",
    "queen_df = pd.read_csv('Output/Queen_lyrics.csv', index_col=0)\n",
    "miley_df = pd.read_csv('Output/MileyCyrus_lyrics.csv', index_col=0)\n",
    "pitbull_df = pd.read_csv('Output/Pitbull_lyrics.csv', index_col=0)"
   ]
  },
  {
   "cell_type": "code",
   "execution_count": 151,
   "metadata": {},
   "outputs": [],
   "source": [
    "## Drop NAs from dataframes\n",
    "queen_df.dropna(inplace=True)\n",
    "miley_df.dropna(inplace=True)\n",
    "pitbull_df.dropna(inplace=True)"
   ]
  },
  {
   "cell_type": "markdown",
   "metadata": {},
   "source": [
    "### Standard string cleaning with built-in python replace functionality and RegEx functions"
   ]
  },
  {
   "cell_type": "code",
   "execution_count": 133,
   "metadata": {},
   "outputs": [],
   "source": [
    "## Clean up lyrics\n",
    "\n",
    "def str_cleaner(df): \n",
    "\n",
    "    ## Remove the \\r\\n strings, strip the words and make it lowercase\n",
    "    Lyrics_clean = [string.replace('\\r\\n',' ').replace('\\n',' ').replace('\\'', '').strip().lower() for string in df['Lyrics']]\n",
    "\n",
    "    ## Remove some other special characters and anything within square brackets, e.g., [chorus]\n",
    "    Lyrics_clean = [re.sub(r'\\[[^]]*\\]','',i) for i in Lyrics_clean]\n",
    "    Lyrics_clean = [re.sub(r'\\.','',i) for i in Lyrics_clean]\n",
    "    Lyrics_clean = [re.sub(r'[ ](?=[ ])|[^-_,A-Za-z0-9 ]+','',i) for i in Lyrics_clean]\n",
    "    Lyrics_clean = [re.sub(r',','',i) for i in Lyrics_clean]\n",
    "    \n",
    "    return Lyrics_clean"
   ]
  },
  {
   "cell_type": "code",
   "execution_count": 152,
   "metadata": {},
   "outputs": [],
   "source": [
    "queen_clean = str_cleaner(queen_df)\n",
    "miley_clean = str_cleaner(miley_df)\n",
    "pitbull_clean = str_cleaner(pitbull_df)"
   ]
  },
  {
   "cell_type": "code",
   "execution_count": 135,
   "metadata": {},
   "outputs": [],
   "source": [
    "## Balance out the two datasets to contain same amount of lyrics with randomized selection\n",
    "\n",
    "# if len(queen_clean) < len(miley_clean):\n",
    "#     rand = list(np.random.randint(0,len(miley_clean)-1,len(queen_clean)))\n",
    "#     miley_clean = [miley_clean[i] for i in rand]\n",
    "# else:\n",
    "#     rand = list(np.random.randint(0,len(queen_clean)-1,len(miley_clean)))\n",
    "#     queen_clean = [queen_clean[i] for i in rand]"
   ]
  },
  {
   "cell_type": "code",
   "execution_count": 136,
   "metadata": {},
   "outputs": [],
   "source": [
    "## Check the length of the two datasets\n",
    "\n",
    "# len(queen_clean) == len(miley_clean), len(queen_clean)"
   ]
  },
  {
   "cell_type": "code",
   "execution_count": null,
   "metadata": {},
   "outputs": [],
   "source": [
    "pitbull"
   ]
  },
  {
   "cell_type": "markdown",
   "metadata": {},
   "source": [
    "---"
   ]
  },
  {
   "cell_type": "markdown",
   "metadata": {},
   "source": [
    "### Tokenize with spacy for lemmatisation and stemming"
   ]
  },
  {
   "cell_type": "code",
   "execution_count": 10,
   "metadata": {},
   "outputs": [],
   "source": [
    "## Import and instantiate spacy nlp model (neural network)\n",
    "import spacy\n",
    "nlp = spacy.load('en_core_web_md')"
   ]
  },
  {
   "cell_type": "code",
   "execution_count": 23,
   "metadata": {},
   "outputs": [],
   "source": [
    "## Function to tokenize (just to get it in a spacy format for further analysis)\n",
    "\n",
    "def tokenize(lyrics_vect):\n",
    "    \n",
    "    tokenized = []\n",
    "\n",
    "    for song in lyrics_vect:\n",
    "        tokens = nlp(song)\n",
    "        tokenized.append(tokens)\n",
    "        \n",
    "    return tokenized"
   ]
  },
  {
   "cell_type": "code",
   "execution_count": 153,
   "metadata": {},
   "outputs": [],
   "source": [
    "tokenized_queen = tokenize(queen_clean)"
   ]
  },
  {
   "cell_type": "code",
   "execution_count": 154,
   "metadata": {},
   "outputs": [],
   "source": [
    "tokenized_miley = tokenize(miley_clean)"
   ]
  },
  {
   "cell_type": "code",
   "execution_count": 155,
   "metadata": {},
   "outputs": [],
   "source": [
    "tokenized_pitbull = tokenize(pitbull_clean)"
   ]
  },
  {
   "cell_type": "code",
   "execution_count": 139,
   "metadata": {},
   "outputs": [],
   "source": [
    "## Function to do the spacy stuff\n",
    "\n",
    "def spacy_cleaner(song):\n",
    "    new_song = []\n",
    "    for word in song:\n",
    "        if not word.is_stop and not word.is_punct and not word.pos_ == 'NUM':\n",
    "            lemma = word.lemma_\n",
    "            new_song.append(lemma)\n",
    "    return new_song"
   ]
  },
  {
   "cell_type": "code",
   "execution_count": 156,
   "metadata": {},
   "outputs": [],
   "source": [
    "## Apply lemmatisation defined in above function to every document (lyric) in the Queens lyrics collection\n",
    "\n",
    "spacy_queen = []\n",
    "for document in tokenized_queen:\n",
    "    spacy_queen.append(spacy_cleaner(document))"
   ]
  },
  {
   "cell_type": "code",
   "execution_count": 157,
   "metadata": {},
   "outputs": [],
   "source": [
    "## Apply lemmatisation defined in above function to every document (lyric) in the Rolling Stones lyrics collection\n",
    "\n",
    "spacy_miley = []\n",
    "for document in tokenized_miley:\n",
    "    spacy_miley.append(spacy_cleaner(document))"
   ]
  },
  {
   "cell_type": "code",
   "execution_count": 158,
   "metadata": {},
   "outputs": [],
   "source": [
    "spacy_pitbull = []\n",
    "for document in tokenized_pitbull:\n",
    "    spacy_pitbull.append(spacy_cleaner(document))"
   ]
  },
  {
   "cell_type": "markdown",
   "metadata": {},
   "source": [
    "---"
   ]
  },
  {
   "cell_type": "markdown",
   "metadata": {},
   "source": [
    "### Conduct EDA"
   ]
  },
  {
   "cell_type": "code",
   "execution_count": 206,
   "metadata": {},
   "outputs": [],
   "source": [
    "## Count number of unique words per song\n",
    "def unique_words(song):\n",
    "    unique_list = []\n",
    "    for word in song:\n",
    "        if word not in unique_list:\n",
    "            unique_list.append(word)\n",
    "    return unique_list"
   ]
  },
  {
   "cell_type": "code",
   "execution_count": 207,
   "metadata": {},
   "outputs": [],
   "source": [
    "## Create unique count for all songs per artist\n",
    "def unique_songlist(spacy_obj):\n",
    "    uq_count = []\n",
    "    for song in spacy_obj:\n",
    "        uq_count.append(len(unique_words(song)))\n",
    "    return uq_count    "
   ]
  },
  {
   "cell_type": "code",
   "execution_count": 212,
   "metadata": {},
   "outputs": [],
   "source": [
    "## Calculate average unique wordcount per song per artist for later plotting\n",
    "avg_unique_queen = np.mean(np.array(unique_songlist(spacy_queen)))\n",
    "avg_unique_miley = np.mean(np.array(unique_songlist(spacy_miley)))\n",
    "avg_unique_pitbull = np.mean(np.array(unique_songlist(spacy_pitbull)))"
   ]
  },
  {
   "cell_type": "code",
   "execution_count": 194,
   "metadata": {},
   "outputs": [],
   "source": [
    "## Define function to count unique words in songs over \"time\"\n",
    "def unique_count(spacy_obj):\n",
    "\n",
    "    songs = []\n",
    "    word_count = []\n",
    "    uniques = []\n",
    "    unique_counts = []\n",
    "\n",
    "    for song in spacy_obj:\n",
    "        songs.append(' '.join(song))\n",
    "        wordnr = 0\n",
    "        for word in song:\n",
    "            wordnr += 1\n",
    "            if word not in uniques: \n",
    "                uniques.append(word) \n",
    "        word_count.append(wordnr)\n",
    "        unique_counts.append(len(uniques))\n",
    "    \n",
    "    return unique_counts, word_count"
   ]
  },
  {
   "cell_type": "code",
   "execution_count": 195,
   "metadata": {},
   "outputs": [],
   "source": [
    "queen_uq_count, queen_word_count = unique_count(spacy_queen)\n",
    "miley_uq_count, miley_word_count = unique_count(spacy_miley)\n",
    "pitbull_uq_count, pitbull_word_count = unique_count(spacy_pitbull)"
   ]
  },
  {
   "cell_type": "code",
   "execution_count": 190,
   "metadata": {},
   "outputs": [
    {
     "data": {
      "text/plain": [
       "<matplotlib.legend.Legend at 0x15bafaeb8>"
      ]
     },
     "execution_count": 190,
     "metadata": {},
     "output_type": "execute_result"
    },
    {
     "data": {
      "image/png": "[encoded data removed]",
      "text/plain": [
       "<Figure size 720x360 with 1 Axes>"
      ]
     },
     "metadata": {
      "needs_background": "light"
     },
     "output_type": "display_data"
    }
   ],
   "source": [
    "fig = plt.figure(figsize=(10,5))\n",
    "plt.plot(queen_uq_count, label='Queen')\n",
    "plt.plot(miley_uq_count, label='Miley Cyrus')\n",
    "plt.plot(pitbull_uq_count, label='Pitbull')\n",
    "plt.xlabel('Number of songs', size=15)\n",
    "plt.ylabel('Count of unique words in songs \\n (accumulative) \\n', size=15)\n",
    "plt.legend()"
   ]
  },
  {
   "cell_type": "code",
   "execution_count": 191,
   "metadata": {},
   "outputs": [
    {
     "data": {
      "text/plain": [
       "Text(0.5, 1.0, 'Number of songs produced per artist \\n')"
      ]
     },
     "execution_count": 191,
     "metadata": {},
     "output_type": "execute_result"
    },
    {
     "data": {
      "image/png": "[encoded data removed]",
      "text/plain": [
       "<Figure size 432x288 with 1 Axes>"
      ]
     },
     "metadata": {
      "needs_background": "light"
     },
     "output_type": "display_data"
    }
   ],
   "source": [
    "plt.bar(['Queen','Miley Cyrus','Pitbull'], height=[len(queen_count),len(miley_count),len(pitbull_count)],width=0.4)\n",
    "plt.title('Number of songs produced per artist \\n', size=15)"
   ]
  },
  {
   "cell_type": "code",
   "execution_count": 196,
   "metadata": {},
   "outputs": [
    {
     "data": {
      "text/plain": [
       "Text(0.5, 1.0, 'Number of words used per song artist \\n')"
      ]
     },
     "execution_count": 196,
     "metadata": {},
     "output_type": "execute_result"
    },
    {
     "data": {
      "image/png": "[encoded data removed]",
      "text/plain": [
       "<Figure size 432x288 with 1 Axes>"
      ]
     },
     "metadata": {
      "needs_background": "light"
     },
     "output_type": "display_data"
    }
   ],
   "source": [
    "plt.bar(['Queen','Miley Cyrus','Pitbull'], height=[np.mean(np.array(queen_word_count)),np.mean(np.array(miley_word_count)),np.mean(np.array(pitbull_word_count))],width=0.4)\n",
    "plt.title('Number of words used per song artist \\n', size=15)"
   ]
  },
  {
   "cell_type": "code",
   "execution_count": 214,
   "metadata": {},
   "outputs": [
    {
     "data": {
      "text/plain": [
       "Text(0.5, 1.0, 'Number of unique words used per song artist \\n')"
      ]
     },
     "execution_count": 214,
     "metadata": {},
     "output_type": "execute_result"
    },
    {
     "data": {
      "image/png": "[encoded data removed]",
      "text/plain": [
       "<Figure size 432x288 with 1 Axes>"
      ]
     },
     "metadata": {
      "needs_background": "light"
     },
     "output_type": "display_data"
    }
   ],
   "source": [
    "plt.bar(['Queen','Miley Cyrus','Pitbull'], height=[avg_unique_queen, avg_unique_miley, avg_unique_pitbull],width=0.4)\n",
    "plt.title('Number of unique words used per song artist \\n', size=15)"
   ]
  }
 ],
 "metadata": {
  "kernelspec": {
   "display_name": "Python 3",
   "language": "python",
   "name": "python3"
  },
  "language_info": {
   "codemirror_mode": {
    "name": "ipython",
    "version": 3
   },
   "file_extension": ".py",
   "mimetype": "text/x-python",
   "name": "python",
   "nbconvert_exporter": "python",
   "pygments_lexer": "ipython3",
   "version": "3.7.3"
  }
 },
 "nbformat": 4,
 "nbformat_minor": 4
}
