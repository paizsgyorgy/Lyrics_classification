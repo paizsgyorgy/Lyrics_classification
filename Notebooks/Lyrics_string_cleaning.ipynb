{
 "cells": [
  {
   "cell_type": "code",
   "execution_count": 1,
   "metadata": {},
   "outputs": [],
   "source": [
    "import pandas as pd\n",
    "import spacy\n",
    "import re\n",
    "import numpy as np"
   ]
  },
  {
   "cell_type": "code",
   "execution_count": 2,
   "metadata": {},
   "outputs": [],
   "source": [
    "## Read in previously scraped lyrics (code for scraping available in different notebook)\n",
    "queen_df = pd.read_csv('Data/Queen_lyrics.csv', index_col=0)\n",
    "rlst_df = pd.read_csv('Data/RollingStones_lyrics.csv', index_col=0)"
   ]
  },
  {
   "cell_type": "code",
   "execution_count": 3,
   "metadata": {},
   "outputs": [],
   "source": [
    "## Drop NAs from dataframes\n",
    "queen_df.dropna(inplace=True)\n",
    "rlst_df.dropna(inplace=True)"
   ]
  },
  {
   "cell_type": "markdown",
   "metadata": {},
   "source": [
    "### Standard string cleaning with built-in python replace functionality and RegEx functions"
   ]
  },
  {
   "cell_type": "code",
   "execution_count": 4,
   "metadata": {},
   "outputs": [],
   "source": [
    "## Clean up lyrics\n",
    "\n",
    "def str_cleaner(df): \n",
    "\n",
    "    ## Remove the \\r\\n strings, strip the words and make it lowercase\n",
    "    Lyrics_clean = [string.replace('\\r\\n',' ').replace('\\n',' ').replace('\\'', '').strip().lower() for string in df['Lyrics']]\n",
    "\n",
    "    ## Remove some other special characters and anything within square brackets, e.g., [chorus]\n",
    "    Lyrics_clean = [re.sub(r'\\[[^]]*\\]','',i) for i in Lyrics_clean]\n",
    "    Lyrics_clean = [re.sub(r'\\.','',i) for i in Lyrics_clean]\n",
    "    Lyrics_clean = [re.sub(r'[ ](?=[ ])|[^-_,A-Za-z0-9 ]+','',i) for i in Lyrics_clean]\n",
    "    Lyrics_clean = [re.sub(r',','',i) for i in Lyrics_clean]\n",
    "    \n",
    "    return Lyrics_clean"
   ]
  },
  {
   "cell_type": "code",
   "execution_count": 5,
   "metadata": {},
   "outputs": [],
   "source": [
    "queen_clean = str_cleaner(queen_df)\n",
    "rlst_clean = str_cleaner(rlst_df)"
   ]
  },
  {
   "cell_type": "code",
   "execution_count": 6,
   "metadata": {},
   "outputs": [],
   "source": [
    "## Balance out the two datasets to contain same amount of lyrics\n",
    "\n",
    "if len(queen_clean) < len(rlst_clean):\n",
    "    rand = list(np.random.randint(0,len(rlst_clean)-1,len(queen_clean)))\n",
    "    rlst_clean = [rlst_clean[i] for i in rand]\n",
    "else:\n",
    "    rand = list(np.random.randint(0,len(queen_clean)-1,len(rlst_clean)))\n",
    "    queen_clean = [queen_clean[i] for i in rand]"
   ]
  },
  {
   "cell_type": "code",
   "execution_count": 7,
   "metadata": {},
   "outputs": [
    {
     "data": {
      "text/plain": [
       "True"
      ]
     },
     "execution_count": 7,
     "metadata": {},
     "output_type": "execute_result"
    }
   ],
   "source": [
    "## Check the length of the two datasets\n",
    "\n",
    "len(queen_clean) == len(rlst_clean)"
   ]
  },
  {
   "cell_type": "markdown",
   "metadata": {},
   "source": [
    "---"
   ]
  },
  {
   "cell_type": "markdown",
   "metadata": {},
   "source": [
    "### Tokenize with spacy for lemmatisation (and remove stop words, punctuations and numbers)"
   ]
  },
  {
   "cell_type": "code",
   "execution_count": 8,
   "metadata": {},
   "outputs": [],
   "source": [
    "## Import and instantiate spacy nlp model (neural network)\n",
    "import spacy\n",
    "nlp = spacy.load('en_core_web_md')"
   ]
  },
  {
   "cell_type": "code",
   "execution_count": 9,
   "metadata": {},
   "outputs": [],
   "source": [
    "## Function to tokenize (just to get it in a spacy format for further analysis)\n",
    "\n",
    "def tokenize(lyrics_vect):\n",
    "    \n",
    "    tokenized = []\n",
    "\n",
    "    for song in lyrics_vect:\n",
    "        tokens = nlp(song)\n",
    "        tokenized.append(tokens)\n",
    "        \n",
    "    return tokenized"
   ]
  },
  {
   "cell_type": "code",
   "execution_count": 10,
   "metadata": {},
   "outputs": [],
   "source": [
    "## Run tokenization function\n",
    "tokenized_queen = tokenize(queen_clean)\n",
    "tokenized_rolling = tokenize(rlst_clean)"
   ]
  },
  {
   "cell_type": "code",
   "execution_count": 11,
   "metadata": {},
   "outputs": [],
   "source": [
    "## Function to do the spacy stuff\n",
    "\n",
    "def spacy_cleaner(song):\n",
    "    new_song = []\n",
    "    for word in song:\n",
    "        if not word.is_stop and not word.is_punct and not word.pos_ == 'NUM':\n",
    "            lemma = word.lemma_\n",
    "            new_song.append(lemma)\n",
    "    joined = ' '.join(new_song)\n",
    "    return joined"
   ]
  },
  {
   "cell_type": "code",
   "execution_count": 12,
   "metadata": {},
   "outputs": [],
   "source": [
    "## Apply lemmatisation defined in above function to every document (lyric) in the Queen lyrics collection\n",
    "\n",
    "spacy_queen = []\n",
    "for document in tokenized_queen:\n",
    "    spacy_queen.append(spacy_cleaner(document))"
   ]
  },
  {
   "cell_type": "code",
   "execution_count": 13,
   "metadata": {},
   "outputs": [],
   "source": [
    "## Apply lemmatisation defined in above function to every document (lyric) in the Rolling Stones lyrics collection\n",
    "\n",
    "spacy_rlst = []\n",
    "for document in tokenized_rolling:\n",
    "    spacy_rlst.append(spacy_cleaner(document))"
   ]
  },
  {
   "cell_type": "markdown",
   "metadata": {},
   "source": [
    "---"
   ]
  },
  {
   "cell_type": "markdown",
   "metadata": {},
   "source": [
    "### Combine all cleaned lyrics into one corpus (to be X) and create y variable "
   ]
  },
  {
   "cell_type": "code",
   "execution_count": 14,
   "metadata": {},
   "outputs": [],
   "source": [
    "corpus = spacy_queen + spacy_rlst"
   ]
  },
  {
   "cell_type": "code",
   "execution_count": 15,
   "metadata": {},
   "outputs": [
    {
     "data": {
      "text/plain": [
       "(True, 304, 304, 608)"
      ]
     },
     "execution_count": 15,
     "metadata": {},
     "output_type": "execute_result"
    }
   ],
   "source": [
    "len(corpus) ==  len(spacy_queen) + len(spacy_rlst), len(spacy_queen), len(spacy_rlst), len(corpus)"
   ]
  },
  {
   "cell_type": "code",
   "execution_count": 16,
   "metadata": {},
   "outputs": [],
   "source": [
    "y = ['Queen'] * len(spacy_queen) + ['Rolling Stones'] * len(spacy_rlst)"
   ]
  },
  {
   "cell_type": "code",
   "execution_count": 30,
   "metadata": {},
   "outputs": [],
   "source": [
    "corpus_df = pd.DataFrame({'Label': y, 'Corpus': corpus})"
   ]
  },
  {
   "cell_type": "code",
   "execution_count": 33,
   "metadata": {},
   "outputs": [],
   "source": [
    "## Export to csv so that a separate machine learning modeling pipeline can work directly with that\n",
    "corpus_df.to_csv('Output/corpus.csv')"
   ]
  }
 ],
 "metadata": {
  "kernelspec": {
   "display_name": "Python 3",
   "language": "python",
   "name": "python3"
  },
  "language_info": {
   "codemirror_mode": {
    "name": "ipython",
    "version": 3
   },
   "file_extension": ".py",
   "mimetype": "text/x-python",
   "name": "python",
   "nbconvert_exporter": "python",
   "pygments_lexer": "ipython3",
   "version": "3.7.3"
  }
 },
 "nbformat": 4,
 "nbformat_minor": 4
}
